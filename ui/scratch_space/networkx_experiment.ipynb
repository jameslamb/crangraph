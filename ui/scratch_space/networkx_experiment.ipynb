{
 "cells": [
  {
   "cell_type": "code",
   "execution_count": 60,
   "metadata": {
    "collapsed": true
   },
   "outputs": [],
   "source": [
    "%matplotlib inline\n",
    "import networkx as nx\n",
    "import matplotlib.pyplot as plt\n",
    "from networkx.readwrite import json_graph"
   ]
  },
  {
   "cell_type": "markdown",
   "metadata": {},
   "source": [
    "## outputing json data for d3"
   ]
  },
  {
   "cell_type": "code",
   "execution_count": 61,
   "metadata": {
    "collapsed": true
   },
   "outputs": [],
   "source": [
    "G=nx.DiGraph()"
   ]
  },
  {
   "cell_type": "code",
   "execution_count": 62,
   "metadata": {
    "collapsed": false
   },
   "outputs": [],
   "source": [
    "# G.add_nodes_from([\"ggplot\", \"dplyr\", \"tsplot\"])"
   ]
  },
  {
   "cell_type": "code",
   "execution_count": 63,
   "metadata": {
    "collapsed": false
   },
   "outputs": [
    {
     "name": "stdout",
     "output_type": "stream",
     "text": [
      "[('dplyr', 'tsplot'), ('ggplot', 'tsplot')]\n",
      "['tsplot', 'dplyr', 'ggplot']\n"
     ]
    }
   ],
   "source": [
    "G.add_edges_from([(\"ggplot\", \"tsplot\"),(\"dplyr\", \"tsplot\")])\n",
    "print G.edges()\n",
    "print G.nodes()"
   ]
  },
  {
   "cell_type": "code",
   "execution_count": 64,
   "metadata": {
    "collapsed": false
   },
   "outputs": [
    {
     "data": {
      "text/plain": [
       "{'directed': True,\n",
       " 'graph': {},\n",
       " 'links': [{'source': 1, 'target': 0}, {'source': 2, 'target': 0}],\n",
       " 'multigraph': False,\n",
       " 'nodes': [{'id': 'tsplot'}, {'id': 'dplyr'}, {'id': 'ggplot'}]}"
      ]
     },
     "execution_count": 64,
     "metadata": {},
     "output_type": "execute_result"
    }
   ],
   "source": [
    "json_graph.node_link_data(G)"
   ]
  },
  {
   "cell_type": "markdown",
   "metadata": {},
   "source": [
    "## reading in graph for flask / networkx\n",
    "* [doc](https://networkx.github.io/documentation/networkx-1.9/reference/generated/networkx.readwrite.edgelist.read_edgelist.html)\n",
    "* ``` ggplot tsplot ``` - means that tsplot requires ggplot"
   ]
  },
  {
   "cell_type": "code",
   "execution_count": 116,
   "metadata": {
    "collapsed": false
   },
   "outputs": [],
   "source": [
    "G = nx.read_edgelist('test_edge_list.txt', nodetype=str, create_using=nx.DiGraph())"
   ]
  },
  {
   "cell_type": "code",
   "execution_count": 133,
   "metadata": {
    "collapsed": false
   },
   "outputs": [
    {
     "data": {
      "text/plain": [
       "{'directed': True,\n",
       " 'graph': {},\n",
       " 'links': [{'source': 1, 'target': 2},\n",
       "  {'source': 3, 'target': 7},\n",
       "  {'source': 3, 'target': 4},\n",
       "  {'source': 5, 'target': 2},\n",
       "  {'source': 5, 'target': 6},\n",
       "  {'source': 6, 'target': 4},\n",
       "  {'source': 7, 'target': 0}],\n",
       " 'multigraph': False,\n",
       " 'nodes': [{'id': 'extratrees'},\n",
       "  {'id': 'dplyr'},\n",
       "  {'id': 'tsplot'},\n",
       "  {'id': 'car'},\n",
       "  {'id': 'lme4'},\n",
       "  {'id': 'ggplot'},\n",
       "  {'id': 'ggvis'},\n",
       "  {'id': 'randomforest'}]}"
      ]
     },
     "execution_count": 133,
     "metadata": {},
     "output_type": "execute_result"
    }
   ],
   "source": [
    "data = json_graph.node_link_data(G, attrs={'source': 'source', 'target': 'target', 'id': 'id'})\n",
    "data"
   ]
  },
  {
   "cell_type": "code",
   "execution_count": null,
   "metadata": {
    "collapsed": true
   },
   "outputs": [],
   "source": []
  },
  {
   "cell_type": "code",
   "execution_count": null,
   "metadata": {
    "collapsed": true
   },
   "outputs": [],
   "source": []
  },
  {
   "cell_type": "markdown",
   "metadata": {},
   "source": [
    "## getting neighbors"
   ]
  },
  {
   "cell_type": "code",
   "execution_count": 118,
   "metadata": {
    "collapsed": false
   },
   "outputs": [
    {
     "data": {
      "text/plain": [
       "['tsplot', 'ggvis']"
      ]
     },
     "execution_count": 118,
     "metadata": {},
     "output_type": "execute_result"
    }
   ],
   "source": [
    "G.neighbors(\"ggplot\")"
   ]
  },
  {
   "cell_type": "code",
   "execution_count": 119,
   "metadata": {
    "collapsed": false
   },
   "outputs": [
    {
     "data": {
      "text/plain": [
       "{'directed': True,\n",
       " 'graph': {},\n",
       " 'links': [],\n",
       " 'multigraph': False,\n",
       " 'nodes': [{'id': 'tsplot'}, {'id': 'ggvis'}]}"
      ]
     },
     "execution_count": 119,
     "metadata": {},
     "output_type": "execute_result"
    }
   ],
   "source": [
    "G_sub = G.subgraph(G.neighbors(\"ggplot\"))\n",
    "json_graph.node_link_data(G_sub)"
   ]
  },
  {
   "cell_type": "code",
   "execution_count": 123,
   "metadata": {
    "collapsed": false
   },
   "outputs": [
    {
     "name": "stdout",
     "output_type": "stream",
     "text": [
      "['tsplot', 'lme4', 'ggplot', 'ggvis']\n",
      "['car', 'randomforest', 'lme4']\n",
      "['car', 'randomforest', 'extratrees', 'lme4']\n"
     ]
    }
   ],
   "source": [
    "def get_subgraph(package=\"ggplot\", path_length=2):\n",
    "    package_list = set([package])\n",
    "    neighbors = G.neighbors(package)\n",
    "    package_list.update(neighbors)\n",
    "    if path_length == 2:\n",
    "        for neighbor in neighbors:\n",
    "            neighbor_2 = G.neighbors(neighbor)\n",
    "            package_list.update(neighbor_2)\n",
    "    return G.subgraph(package_list)\n",
    "\n",
    "print get_subgraph(\"ggplot\").nodes()\n",
    "print get_subgraph(\"car\", path_length=1).nodes()\n",
    "print get_subgraph(\"car\").nodes()"
   ]
  },
  {
   "cell_type": "code",
   "execution_count": null,
   "metadata": {
    "collapsed": true
   },
   "outputs": [],
   "source": []
  },
  {
   "cell_type": "code",
   "execution_count": null,
   "metadata": {
    "collapsed": true
   },
   "outputs": [],
   "source": []
  }
 ],
 "metadata": {
  "kernelspec": {
   "display_name": "Python 2",
   "language": "python",
   "name": "python2"
  },
  "language_info": {
   "codemirror_mode": {
    "name": "ipython",
    "version": 2
   },
   "file_extension": ".py",
   "mimetype": "text/x-python",
   "name": "python",
   "nbconvert_exporter": "python",
   "pygments_lexer": "ipython2",
   "version": "2.7.12"
  }
 },
 "nbformat": 4,
 "nbformat_minor": 2
}
