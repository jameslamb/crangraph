{
 "cells": [
  {
   "cell_type": "markdown",
   "metadata": {},
   "source": [
    "# dashboard plan\n",
    "* flask + d3 for serving the data\n",
    "    * try to not write that much JS XD\n",
    "* read in data via networkx \n",
    "* flask server serving the dependency data via networkx"
   ]
  },
  {
   "cell_type": "markdown",
   "metadata": {},
   "source": [
    "### plan of action\n",
    "1. networkx read data\n",
    "2. networkx export data\n",
    "    * networkx get neighborhood graph\n",
    "3. flask d3 (simple force-directed graph)\n",
    "4. JS query capability on the page"
   ]
  },
  {
   "cell_type": "code",
   "execution_count": null,
   "metadata": {
    "collapsed": true
   },
   "outputs": [],
   "source": []
  },
  {
   "cell_type": "markdown",
   "metadata": {},
   "source": [
    "## resources\n",
    "* [force directed graph](https://bl.ocks.org/mbostock/4062045)\n",
    "    * [with labels](https://bl.ocks.org/mbostock/950642)\n",
    "* [flask d3](https://realpython.com/blog/python/web-development-with-flask-fetching-data-with-requests/)"
   ]
  },
  {
   "cell_type": "code",
   "execution_count": null,
   "metadata": {
    "collapsed": true
   },
   "outputs": [],
   "source": []
  }
 ],
 "metadata": {
  "kernelspec": {
   "display_name": "Python 2",
   "language": "python",
   "name": "python2"
  },
  "language_info": {
   "codemirror_mode": {
    "name": "ipython",
    "version": 2
   },
   "file_extension": ".py",
   "mimetype": "text/x-python",
   "name": "python",
   "nbconvert_exporter": "python",
   "pygments_lexer": "ipython2",
   "version": "2.7.12"
  }
 },
 "nbformat": 4,
 "nbformat_minor": 2
}
